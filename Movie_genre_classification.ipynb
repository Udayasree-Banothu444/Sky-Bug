{
  "cells": [
    {
      "cell_type": "code",
      "execution_count": null,
      "metadata": {
        "colab": {
          "base_uri": "https://localhost:8080/"
        },
        "id": "XbIOXbFMrC7Y",
        "outputId": "e6fb9ddb-2f99-4e1f-d36f-dc6b5360fb38"
      },
      "outputs": [
        {
          "output_type": "stream",
          "name": "stdout",
          "text": [
            "\n",
            "Naive Bayes Test Accuracy: 0.0\n"
          ]
        },
        {
          "output_type": "stream",
          "name": "stderr",
          "text": [
            "/usr/local/lib/python3.10/dist-packages/sklearn/metrics/_classification.py:1344: UndefinedMetricWarning: Precision and F-score are ill-defined and being set to 0.0 in labels with no predicted samples. Use `zero_division` parameter to control this behavior.\n",
            "  _warn_prf(average, modifier, msg_start, len(result))\n",
            "/usr/local/lib/python3.10/dist-packages/sklearn/metrics/_classification.py:1344: UndefinedMetricWarning: Recall and F-score are ill-defined and being set to 0.0 in labels with no true samples. Use `zero_division` parameter to control this behavior.\n",
            "  _warn_prf(average, modifier, msg_start, len(result))\n",
            "/usr/local/lib/python3.10/dist-packages/sklearn/metrics/_classification.py:1344: UndefinedMetricWarning: Precision and F-score are ill-defined and being set to 0.0 in labels with no predicted samples. Use `zero_division` parameter to control this behavior.\n",
            "  _warn_prf(average, modifier, msg_start, len(result))\n",
            "/usr/local/lib/python3.10/dist-packages/sklearn/metrics/_classification.py:1344: UndefinedMetricWarning: Recall and F-score are ill-defined and being set to 0.0 in labels with no true samples. Use `zero_division` parameter to control this behavior.\n",
            "  _warn_prf(average, modifier, msg_start, len(result))\n"
          ]
        }
      ],
      "source": [
        "# Import necessary libraries\n",
        "import numpy as np\n",
        "from sklearn.feature_extraction.text import TfidfVectorizer\n",
        "from sklearn.naive_bayes import MultinomialNB\n",
        "from sklearn.linear_model import LogisticRegression\n",
        "from sklearn.svm import SVC\n",
        "from sklearn.metrics import accuracy_score, classification_report\n",
        "from sklearn.model_selection import train_test_split\n",
        "\n",
        "# Load data\n",
        "def load_data(file_path):\n",
        "    with open(file_path, 'r', encoding='utf-8') as file:\n",
        "        data = file.readlines()\n",
        "    return data\n",
        "\n",
        "# Load training data and labels\n",
        "train_data = load_data('train_data.txt')[:14]\n",
        "train_labels = load_data('description.txt')[:14]\n",
        "\n",
        "# Load test data and labels\n",
        "#test_data = load_data('test_data.txt')\n",
        "#test_labels = load_data('test_data_solution.txt')\n",
        "\n",
        "# Load test data and labels\n",
        "test_data = load_data('test_data.txt')[:41749]\n",
        "test_labels = load_data('test_data_solution.txt')[:41749]\n",
        "\n",
        "# Split the data into training and validation sets\n",
        "X_train, X_val, y_train, y_val = train_test_split(train_data, train_labels, test_size=0.2, random_state=42)\n",
        "\n",
        "# Vectorize the text using TF-IDF\n",
        "vectorizer = TfidfVectorizer(max_features=5000)\n",
        "X_train_tfidf = vectorizer.fit_transform(X_train)\n",
        "X_val_tfidf = vectorizer.transform(X_val)\n",
        "\n",
        "# Naive Bayes classifier\n",
        "nb_classifier = MultinomialNB()\n",
        "nb_classifier.fit(X_train_tfidf, y_train)\n",
        "nb_pred = nb_classifier.predict(X_val_tfidf)\n",
        "\n",
        "# Logistic Regression classifier\n",
        "lr_classifier = LogisticRegression(max_iter=500)\n",
        "lr_classifier.fit(X_train_tfidf, y_train)\n",
        "lr_pred = lr_classifier.predict(X_val_tfidf)\n",
        "\n",
        "# Support Vector Machines (SVM) classifier\n",
        "svm_classifier = SVC(kernel='linear')\n",
        "svm_classifier.fit(X_train_tfidf, y_train)\n",
        "svm_pred = svm_classifier.predict(X_val_tfidf)\n",
        "\n",
        "# Evaluate models\n",
        "# Test the models on the test set\n",
        "X_test_tfidf = vectorizer.transform(test_data)\n",
        "\n",
        "nb_test_pred = nb_classifier.predict(X_test_tfidf)\n",
        "lr_test_pred = lr_classifier.predict(X_test_tfidf)\n",
        "svm_test_pred = svm_classifier.predict(X_test_tfidf)\n",
        "\n",
        "# Evaluate models on the test set\n",
        "print(\"\\nNaive Bayes Test Accuracy:\", accuracy_score(test_labels, nb_test_pred))\n",
        "print(\"\\nNaive Bayes Test Classification Report:\\n\", classification_report(test_labels, nb_test_pred))\n",
        "\n",
        "print(\"\\nLogistic Regression Test Accuracy:\", accuracy_score(test_labels, lr_test_pred))\n",
        "print(\"\\nLogistic Regression Test Classification Report:\\n\", classification_report(test_labels, lr_test_pred))\n",
        "\n",
        "print(\"\\nSVM Test Accuracy:\", accuracy_score(test_labels, svm_test_pred))\n",
        "print(\"\\nSVM Test Classification Report:\\n\", classification_report(test_labels, svm_test_pred))"
      ]
    }
  ],
  "metadata": {
    "colab": {
      "provenance": []
    },
    "kernelspec": {
      "display_name": "Python 3",
      "name": "python3"
    },
    "language_info": {
      "name": "python"
    }
  },
  "nbformat": 4,
  "nbformat_minor": 0
}